{
  "cells": [
    {
      "cell_type": "markdown",
      "metadata": {
        "id": "view-in-github",
        "colab_type": "text"
      },
      "source": [
        "<a href=\"https://colab.research.google.com/github/xoXen/3113-Labs/blob/lab-notebooks/AY24_25_ICT3102_Week03_Introduction_to_Testing_Student_share.ipynb\" target=\"_parent\"><img src=\"https://colab.research.google.com/assets/colab-badge.svg\" alt=\"Open In Colab\"/></a>"
      ]
    },
    {
      "cell_type": "markdown",
      "metadata": {
        "id": "6NW1-dJiTenx"
      },
      "source": [
        "## 3.0 Learning Objectives\n",
        "\n",
        "By the end of this lab, you would have learnt the following:\n",
        "\n",
        "1. Profiling / Monitoring your Flask Web Server\n",
        "2. Using JMeter to send requests to Flask Web Server\n",
        "3. A very short introduction to virtual environments\n",
        "4. Running and Testing the web server locally.\n",
        "\n",
        "Unfortuantely for the last part of the labs, we will need to run it within your own local environments. However we will be using colab as the \"lab sheet\" for consistency."
      ]
    },
    {
      "cell_type": "markdown",
      "metadata": {
        "id": "xwdzddiuRVxB"
      },
      "source": [
        "## 3.1 Profiling / Monitoring your Flask Web Server"
      ]
    },
    {
      "cell_type": "markdown",
      "metadata": {
        "id": "Ru2qBSLXQDt7"
      },
      "source": [
        "### 3.1.1 Running a Flask Web Server from Google Colab"
      ]
    },
    {
      "cell_type": "code",
      "execution_count": null,
      "metadata": {
        "id": "F774AmVtv3UF"
      },
      "outputs": [],
      "source": [
        "from google.colab.output import eval_js\n",
        "print(eval_js(\"google.colab.kernel.proxyPort(5000)\"))"
      ]
    },
    {
      "cell_type": "code",
      "execution_count": null,
      "metadata": {
        "colab": {
          "background_save": true
        },
        "id": "4A1ssJt7PNBe"
      },
      "outputs": [],
      "source": [
        "import json\n",
        "from flask import Flask, request, Response\n",
        "\n",
        "app = Flask(__name__)\n",
        "\n",
        "@app.route('/')\n",
        "def home():\n",
        "  return \"<h1>hello world</h1>\"\n",
        "\n",
        "@app.route(\"/sort\", methods=['GET'])\n",
        "def sort():\n",
        "  if request.method == \"GET\":\n",
        "    unsorted = request.args.get(\"unsorted_list\")\n",
        "    unsorted = unsorted.replace('[','')\n",
        "    unsorted = unsorted.replace(']','')\n",
        "\n",
        "    unsorted = list(unsorted.split(\",\"))\n",
        "    unsorted = [int(i) for i in unsorted]\n",
        "    unsorted.sort()\n",
        "    return (json.dumps(unsorted))\n",
        "\n",
        "# /sort?unsorted_list=[3,4,5,3,2,3,445,5,5,44,4]\n",
        "app.run()"
      ]
    },
    {
      "cell_type": "markdown",
      "metadata": {
        "id": "U0VOyvkFXbDO"
      },
      "source": [
        "You can visit the domain on top and it will give you the results of the service."
      ]
    },
    {
      "cell_type": "markdown",
      "metadata": {
        "id": "Z3BjCMMhQA_1"
      },
      "source": [
        "### 3.1.2 Running flask_profiler on Flask"
      ]
    },
    {
      "cell_type": "code",
      "execution_count": null,
      "metadata": {
        "id": "dYCGDdFM3RbO"
      },
      "outputs": [],
      "source": []
    },
    {
      "cell_type": "code",
      "execution_count": null,
      "metadata": {
        "id": "ZBi4byrpSXUq"
      },
      "outputs": [],
      "source": [
        "import json\n",
        "from flask import Flask\n",
        "import flask_profiler\n",
        "from flask import Flask, request, Response\n",
        "\n",
        "app = Flask(__name__)\n",
        "\n",
        "#fill up profiler parameters here.\n",
        "app.config[\"flask_profiler\"] = {\n",
        "    \"enabled\": True,\n",
        "    \"storage\": {\n",
        "    \"engine\": \"sqlite\"\n",
        "  },\n",
        "  \"basicAuth\":{\n",
        "    \"enabled\": False,\n",
        "    \"username\": \"admin\",\n",
        "    \"password\": \"admin\"\n",
        "  },\n",
        "  \"ignore\": [\n",
        "    \"^/static/.*\"\n",
        "  ]\n",
        "}\n",
        "\n",
        "#fill up init here.\n",
        "flask_profiler.init_app(app)\n",
        "\n",
        "@app.route(\"/\")\n",
        "def home():\n",
        "  return \"<h1>ICT3102 rocks~</h1>\"\n",
        "\n",
        "@app.route(\"/sort\", methods=['GET'])\n",
        "@flask_profiler.profile()\n",
        "def sort():\n",
        "  if request.method == \"GET\":\n",
        "    unsorted = (request.args.get(\"unsorted_list\"))\n",
        "    unsorted = unsorted.replace('[', '')\n",
        "    unsorted = unsorted.replace(']', '')\n",
        "\n",
        "    unsorted = list(unsorted.split(\",\"))\n",
        "    unsorted = [int(i) for i in unsorted]\n",
        "    unsorted.sort()\n",
        "    return (json.dumps(unsorted))\n",
        "\n",
        "app.run()"
      ]
    },
    {
      "cell_type": "markdown",
      "metadata": {
        "id": "6DysNdpiUNir"
      },
      "source": [
        "Let's now try to run a simple call to the sort API from google chrome. Like what we saw above, it should return the sorted array.\n",
        "\n",
        "Now let's try to see this call on the flask profiler. To do that, we use go to the site:\n",
        "\n",
        "\"ip_address\"/flask-profiler\n",
        "\n",
        "It will prompt next prompt you for the password. If you did not change the user and password above, it will remain to be just user: \"admin\" and password: \"admin\".\n",
        "\n",
        "![alt text](https://drive.google.com/uc?export=view&id=12st-CQKMahvaVbwqEaA4Ihuvq-Sw8LvL)"
      ]
    },
    {
      "cell_type": "markdown",
      "metadata": {
        "id": "WshaT9r4aMGu"
      },
      "source": [
        "Thus in a very easy fashion, we have managed to profile all the calls to the different endpoints of a web server. It shows the number of times the api was called, the average elapsed time per API call, the max and min timings the call need to execute. This timing is the **running + waiting time**. *Why?*"
      ]
    },
    {
      "cell_type": "markdown",
      "metadata": {
        "id": "t6alBlSeavny"
      },
      "source": [
        "## 3.2 Introduction to JMeter"
      ]
    },
    {
      "cell_type": "markdown",
      "metadata": {
        "id": "z9tQwJFWa79r"
      },
      "source": [
        "This lab will introduce you to load testing and stress testing using Apache JMeter (http://jmeter.apache.org), an open source project supported by the Apache Software Foundation. JMeter’s web site provides the following summary of its functionality:\n",
        "\n",
        ">Apache JMeter may be used to test performance both on static and dynamic resources, Web dynamic applications. It can be used to simulate a heavy load on a server, group of servers, network or object to test its strength or to analyze overall performance under different load types."
      ]
    },
    {
      "cell_type": "markdown",
      "metadata": {
        "id": "0Ergl0gsbVrJ"
      },
      "source": [
        "## 3.2.1 Installing and Running JMeter\n",
        "\n",
        "JMeter is written in Java, so you will need a computer with the Java Runtime Environment installed on it. JMeter 4.0 requires Java 8 or later.\n",
        "1.\tDownload the latest version of JMeter from http://jmeter.apache.org/download_jmeter.cgi. You will only need the binaries for this lab.\n",
        "2.\tExtract the archive into some convenient folder on your computer. The archive contains a folder apache-jmeter-X.Y where X.Y is the current version number.\n",
        "3.\tTo start JMeter, visit the bin sub-folder of apache-jmeter-X.Y.\n",
        "•\tOn Windows systems, execute jmeter.bat\n",
        "•\tOn Unix, Linux and MacOS X systems, execute jmeter\n",
        "You can find more information about running JMeter at http://jmeter.apache.org/usermanual/get-started.html.\n",
        "4. Take the directory path of the bin folder of JMeter and add it to your path environmental variable in windows."
      ]
    },
    {
      "cell_type": "markdown",
      "metadata": {
        "id": "kwP8KOLYcKhf"
      },
      "source": [
        "## 3.2.1 Building a Test Plan\n",
        "\n",
        "The following steps are **heavily** adapted from the tutorial at http://jmeter.apache.org/usermanual/build-web-test-plan.html.\n",
        "\n",
        "Let's now setup a simple test plan with 10 users to visit the website http://www.singaporetech.edu.sg\n",
        "\n",
        "If the 10 users are accessing just one page, then in total it will be 10 requests.\n",
        "\n",
        "If the 10 users are accessing the two different pages in a session, it will be 20 http requests.\n",
        "\n",
        "If the 10 users are doing two sessions, in total it will be 40 http requests.\n",
        "\n",
        "For jmeter, we call the number of users the number of threads. Hence if we are using 10 users to access a certain page, we term it 10 users in a thread group."
      ]
    },
    {
      "cell_type": "markdown",
      "metadata": {
        "id": "iZw-2OpsjX0W"
      },
      "source": [
        "**Step 3.2.1: Add number of users to the test plan.**\n",
        "\n",
        "![alt text](https://drive.google.com/uc?export=view&id=1Wx5O6KIGRtQm1Kc10EXAVWFARKemvayR)\n",
        "\n",
        "Here in the thread group, we see various options we can enter.\n",
        "\n",
        "Next, increase the number of threads to 10. This means we are trying to simulate 10 users\n",
        "\n",
        "The Ramp-Up Period signifies the time allocated for all users to have started their requests. So if we have a ramp-up period of 10 seconds, JMeter will have finished starting all the users by the end of 10 seconds. The time between each user will be the ramp-up period divided by the number of users (threads).\n",
        "\n",
        "Note that if you set 0, JMeter will immediately start all of your users.\n",
        "\n",
        "Finally we want the users to carry out two sessions, hence in the loop count put in the value of 2.\n",
        "\n",
        "![alt text](https://drive.google.com/uc?export=view&id=1X554cLccthUDLGkZ-dqLhwEcO6RCFHVX)"
      ]
    },
    {
      "cell_type": "markdown",
      "metadata": {
        "id": "5wQ6qMitmj9U"
      },
      "source": [
        "**Step 3.2.2: Add HTTP Requests.**\n",
        "\n",
        "As mentioned earlier, we will simulate the user going to a certain website To do that, we will do the following:\n",
        "\n",
        "Add -> Sample -> HTTP Request\n",
        "\n"
      ]
    },
    {
      "cell_type": "markdown",
      "metadata": {
        "id": "vNZk4yGuubMk"
      },
      "source": [
        "![alt text](https://drive.google.com/uc?export=view&id=1mlnwT5lWU6zVfHRNnjsbob9M_-r5L4H6)\n",
        "\n",
        "Add in http in the Protocol.\n",
        "\n",
        "For server name, IP, you can place the singaporetech website.\n",
        "\n",
        "![alt text](https://drive.google.com/uc?export=view&id=1jDk46jJL7UV7g4veYKmABY3bnGK8KbPe)\n",
        "\n",
        "**Step 3.2.3: Add the results tree.**\n",
        "\n",
        "Finally, add in the results tree.\n",
        "\n",
        "![alt text](https://drive.google.com/uc?export=view&id=1leVrxQDLivK5dyRk2a06ORWdBMlNjGps)"
      ]
    },
    {
      "cell_type": "markdown",
      "metadata": {
        "id": "g50gd9-zeHrm"
      },
      "source": [
        "Pressing the play button will simulate calls to the home page of the website you have keyed in. You should get the very nice green colored icons below:\n",
        "\n",
        "![alt text](https://drive.google.com/uc?export=view&id=1-4bud6Zi3redMi_bjpyHpH8o_AqMVUyo)\n",
        "\n",
        "Let's now assume you wish to call the sort function. You key in the sort function in the path. At the bottom there is a \"add\" button. That button helps you to add an input variable to your GET request. Use it to add the unsorted list variable, and a list of unsorted numbers.\n",
        "\n",
        "![alt text](https://drive.google.com/uc?export=view&id=187syfXJMnJp3dssrWVXTdyjH3LbzIs3Q)"
      ]
    },
    {
      "cell_type": "markdown",
      "metadata": {
        "id": "tasK71TIk494"
      },
      "source": [
        "Now you can press the play button. However note that when you press the play button, there is a high chance that your server will crash and you will see the following output:\n",
        "\n",
        "![alt text](https://drive.google.com/uc?export=view&id=1HCz_MGIkw10MRM2RbT2o-XIfH4S-bg6U)\n",
        "\n",
        "You may also notice that your the server running on your colab has crashed. *Why...?*"
      ]
    },
    {
      "cell_type": "markdown",
      "metadata": {
        "id": "5K7gTRzdlD9X"
      },
      "source": [
        "Edit the numbers in your threads to something that is more comfortable with the free tier option you have and press the run button again. This time round you should see the following successful run:\n",
        "\n",
        "![alt text](https://drive.google.com/uc?export=view&id=1fLVDIvQNxh81S5glisGDyxCOungAq_3V)"
      ]
    },
    {
      "cell_type": "markdown",
      "metadata": {
        "id": "UenkehnRmkAq"
      },
      "source": [
        "Once your test plan is working correctly, JMeter recommends that you remove the View Results Tree node since it consumes a lot of resources and is not necessary for running a real test.\n",
        "\n",
        "JMeter can also test SQL servers, FTP servers, LDAP servers, web services and the Java Message Service using much the same procedure; you can browse through tutorials on all of these by following the “Next” links on each tutorial page but you do not need to complete them for this lab.\n",
        "\n",
        "Instead of entering a series of HTTP requests manually, you can use JMeter to record the requests made by a web browser during normal use. This recording can then be made into a test plan. The appendix “Building More Realistic Test Scripts” below describes how to record a browser session, but it is not necessary to do this for the purposes of this lab.\n"
      ]
    },
    {
      "cell_type": "markdown",
      "metadata": {
        "id": "Qz4vjN9yLEdh"
      },
      "source": [
        "## 3.3 Introduction to Virtual Environments\n",
        "\n"
      ]
    },
    {
      "cell_type": "markdown",
      "metadata": {
        "id": "37HS7g_va-mu"
      },
      "source": [
        "In most programming languages, you typically import libraries along the way as you use them. That goes the same in python. However in python, there may be an issue at times with incompatable library versions. For instance, when using library ABC, it may require library XYZ to be specifically of version 2. This poses a problem in the event we have another project using library PQR, and this time it requires library XYZ to be of version 1.\n",
        "\n",
        "One of the solutions to this is known as virtual environments.\n",
        "\n",
        "### What are virtual environments?\n",
        "\n",
        "\"A virtual environment is a Python environment such that the Python interpreter, libraries and scripts installed into it are isolated from those installed in other virtual environments, and (by default) any libraries installed in a “system” Python, i.e., one which is installed as part of your operating system.\"\n",
        "\n",
        "In our current situation, we are running an environment within the main \"system\" python. We can tell what the libraries that are installed in the \"system\" python using the following function:"
      ]
    },
    {
      "cell_type": "code",
      "execution_count": null,
      "metadata": {
        "id": "UaMFQZbELFZT"
      },
      "outputs": [],
      "source": [
        "pip freeze"
      ]
    },
    {
      "cell_type": "markdown",
      "metadata": {
        "id": "b-pZEa_4gwmB"
      },
      "source": [
        "**Step 3.3.1: Start Command Prompt.**\n",
        "\n",
        "*   Start command prompt by pressing on the windows button on your keyboard.\n",
        "*   Type the command \"cmd\"\n",
        "*   Press \"enter\"\n",
        "\n",
        "![alt text](https://drive.google.com/uc?export=view&id=1u_AUGhD47wl3kSf02xYqjWvSIcxPgXzP)"
      ]
    },
    {
      "cell_type": "markdown",
      "metadata": {
        "id": "lJpfoBJBhcOl"
      },
      "source": [
        "**Step 3.3.2: Execute pip freeze on your local environment.**\n",
        "\n",
        "*   Type \"pip freeze\" in your command window\n",
        "\n",
        "![alt text](https://drive.google.com/uc?export=view&id=12HwJQR38qp4wcqDaQ4MzqElSROc4d0S1)"
      ]
    },
    {
      "cell_type": "markdown",
      "metadata": {
        "id": "9vvHdpi1h_0C"
      },
      "source": [
        "**Step 3.3.3: Install Flask to the new virtual environment.**\n",
        "\n",
        "*   Type \"pip install virtualenv\"\n",
        "*   Type \"virtualenv test_env\". This creates a virtual environment within your local system, known as test_env\n",
        "*   Type \".\\test_env\\Scripts\\activate\"\n",
        "\n",
        "![alt text](https://drive.google.com/uc?export=view&id=1a7nKn1kOrPOn6bOyW1OJE5Hib_644G_q)\n",
        "\n",
        "![alt text](https://drive.google.com/uc?export=view&id=1BmEB9VZXpF8pXvcNTuMO11VSbKi3QwtK)\n",
        "\n",
        "Notice that now there is a (test_env) at the start of your command directory prompt. This shows that we are now using the new virtual environment. If we do a pip freeze here we see that there are currently no packages installed in the new environment. Let's install Flask here:\n",
        "\n",
        "*   Type \"pip install Flask\"\n",
        "*   Type \"pip freeze\"\n",
        "\n",
        "We now see the new libraries installed unto this virtualenvironment.\n",
        "\n",
        "![alt text](https://drive.google.com/uc?export=view&id=1PPWUtBKj2YKUCxxC6vtmtkr1c5RWGSC9)\n"
      ]
    },
    {
      "cell_type": "markdown",
      "metadata": {
        "id": "JtlJ4sShnT-X"
      },
      "source": [
        "This used to be one way to quickly onboard developers, so that everybody will be on the same development environments within a very short span of time. Today there are slightly more sophiscated ways such as using docker to standardize the environments everybody is using. We will explore a bit of both this and next week."
      ]
    },
    {
      "cell_type": "markdown",
      "metadata": {
        "id": "qS_Kg1tYu4Ek"
      },
      "source": [
        "## 3.4 Running and Testing the web server locally.\n",
        "\n",
        "We will now be running the web server in the local environment. This is so that we will be able to monitor it from the environment. However do take note of this. We typically need to seperate the tester and web server environment into two different machines. This form of testing will not be as accurate, as the tester also takes up the same resouces as that of the web server. We will look into how we can circumvant this in 3.5.\n",
        "\n",
        "\n"
      ]
    },
    {
      "cell_type": "markdown",
      "metadata": {
        "id": "ShCDcNVNwVmy"
      },
      "source": [
        "### 3.4.1 Running the web server locally.\n",
        "\n",
        "We will be using the virtual environment that we set up in our earlier section 3.3. In this environment, we will need to install two new libraries. They are Flask and flask_profiler. (Flask should have been installed in 3.3) Hence please execute the commands on your local cmd terminal.\n",
        "\n",
        "```\n",
        "pip install flask_profiler\n",
        "```\n",
        "\n",
        "Thereafter, please verify that the libraries are installed with\n",
        "\n",
        "```\n",
        "pip freeze\n",
        "```\n",
        "\n",
        "![alt text](https://drive.google.com/uc?export=view&id=1K6CQkvs6qHwtwQnGQILp04wlBXDr8-3x)\n"
      ]
    },
    {
      "cell_type": "markdown",
      "metadata": {
        "id": "0nAEHZuDxlc5"
      },
      "source": [
        "We will now be running the following piece of code as the server.\n",
        "\n",
        "\n",
        "```\n",
        "import json\n",
        "from flask import Flask\n",
        "import flask_profiler\n",
        "from flask import Flask, request, Response\n",
        "\n",
        "app = Flask(__name__)\n",
        "app.config[\"flask_profiler\"] = {\n",
        "    \"enabled\": True,\n",
        "    \"storage\": {\n",
        "    \"engine\": \"sqlite\"\n",
        "  },\n",
        "  \"basicAuth\":{\n",
        "    \"enabled\": True,\n",
        "    \"username\": \"admin\",\n",
        "    \"password\": \"admin\"\n",
        "  },\n",
        "  \"ignore\": [\n",
        "    \"^/static/.*\"\n",
        "  ]\n",
        "}\n",
        "\n",
        "flask_profiler.init_app(app)\n",
        "\n",
        "@app.route(\"/\")\n",
        "def home():\n",
        "  return \"<h1>ICT3102 rocks~</h1>\"\n",
        "\n",
        "@app.route(\"/sort\", methods=['GET'])\n",
        "@flask_profiler.profile()\n",
        "def sort():\n",
        "  if request.method == \"GET\":\n",
        "    unsorted = (request.args.get(\"unsorted_list\"))\n",
        "    unsorted = unsorted.replace('[', '')\n",
        "    unsorted = unsorted.replace(']', '')\n",
        "\n",
        "    unsorted = list(unsorted.split(\",\"))\n",
        "    unsorted = [int(i) for i in unsorted]\n",
        "    unsorted.sort()\n",
        "    return (json.dumps(unsorted))\n",
        "\n",
        "app.run(debug=True)\n",
        "```\n"
      ]
    },
    {
      "cell_type": "markdown",
      "metadata": {
        "id": "rjI8IdFgy5Lp"
      },
      "source": [
        "![alt text](https://drive.google.com/uc?export=view&id=1AVtuPG4jWx8Hiw8CKzRK25cMPQePvhj_)\n",
        "\n",
        "You will now be able to access the following pages:\n",
        "\n",
        "![alt text](https://drive.google.com/uc?export=view&id=1s_Yw0MuIUj8X2ru7puP5EcgdTxwUN8WM)"
      ]
    },
    {
      "cell_type": "markdown",
      "metadata": {
        "id": "8AtBGpnB0g9w"
      },
      "source": [
        "### 3.4.2 Testing the web server locally.\n",
        "\n",
        "Let's now redo the JMeter to point to localhost instead. Simply update the server name to 127.0.0.1 as well as the port to 5000.\n",
        "\n",
        "![alt text](https://drive.google.com/uc?export=view&id=1PfASpknI5NtwrF-6R-rcsbciOCgOq2Zc)"
      ]
    },
    {
      "cell_type": "markdown",
      "metadata": {
        "id": "IhNDUiOG1iPK"
      },
      "source": [
        "You will find that you are able to greatly increase the number of users etc. Let us try with just 1000 users in 10 seconds.\n",
        "\n",
        "At this point, two strange bugs occur. The first, is it strangely changes the text color to purple color, which is quite strange.\n",
        "\n",
        "![alt text](https://drive.google.com/uc?export=view&id=1j5LA8ojeX-3SgzIom_i91a-w2kW2c5a8)\n",
        "\n",
        "The second more serious bug is a complaint of a recursive use of cursors. This typically occurs when the sql database is using just one single cursor but is being reused because the processes are coming into the database too quickly (we will look into how we can resolve this in the second part of the course when we talk about databases).\n",
        "\n",
        "Fortunately this bug can be easily solved just by changing the sqlite database into a mongodb one. This is done by first.\n",
        "\n",
        "```\n",
        "pip install pymongo\n",
        "```\n",
        "\n",
        "On the command line. Thereafter replace the line sqlite with mongodb\n",
        "\n",
        "```\n",
        "app = Flask(__name__)\n",
        "app.config[\"flask_profiler\"] = {\n",
        "    \"enabled\": True,\n",
        "    \"storage\": {\n",
        "    \"engine\": \"mongodb\"\n",
        "  },\n",
        "  \"basicAuth\":{\n",
        "    \"enabled\": True,\n",
        "    \"username\": \"admin\",\n",
        "    \"password\": \"admin\"\n",
        "  },\n",
        "  \"ignore\": [\n",
        "    \"^/static/.*\"\n",
        "  ]\n",
        "}\n",
        "```\n",
        "\n",
        "Hopefully your cpu is able to support this. If it is too heavy, just try to reduce the number of users, or increase the number of seconds. This is the unfortunate case where it is probably the profiler that is limiting the throughput of the system under test.\n",
        "\n"
      ]
    },
    {
      "cell_type": "markdown",
      "metadata": {
        "id": "jFpOtqp7i4K7"
      },
      "source": [
        "Go to the flask_profiler package in your virtual environment (in this case the name of the virtual environment is lab03). We need to change a bit of code in the profiler for this to work properly."
      ]
    },
    {
      "cell_type": "markdown",
      "metadata": {
        "id": "lInqOMIqi1LG"
      },
      "source": [
        "![image.png](data:image/png;base64,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)"
      ]
    },
    {
      "cell_type": "markdown",
      "metadata": {
        "id": "_FdyN14IS-Cb"
      },
      "source": [
        "After that find in line 22 the following piece of code. Please change it to cretae_index instead.\n",
        "\n",
        "```\n",
        "    def createIndex():\n",
        "        self.collection.create_index(\n",
        "            [\n",
        "                ('startedAt', 1),\n",
        "                ('endedAt', 1),\n",
        "                ('elapsed', 1),\n",
        "                ('name', 1),\n",
        "                ('method', 1)]\n",
        "            )\n",
        "```\n",
        "\n",
        "\n",
        "\n"
      ]
    },
    {
      "cell_type": "markdown",
      "metadata": {
        "id": "Jg7EK17H5007"
      },
      "source": [
        "### 3.4.3 Testing the web server locally non gui mode\n"
      ]
    },
    {
      "cell_type": "markdown",
      "metadata": {
        "id": "WpH1dmAa65kg"
      },
      "source": [
        "You can execute the test in the JMeter GUI using the Start button on the tool bar (it has a green triangular “play” icon), or the same option on the Run menu, but JMeter recommends that you conduct real tests in non-GUI mode “to get the optimal results from it”. To do this, first save the test plan.\n",
        "\n",
        "Then start JMeter from the command line using\n",
        "\n",
        "```\n",
        "jmeter -n -t test-plan.jmx -l test-results.csv -e -o report-folder\n",
        "```\n",
        "\n",
        "where test-plan.jmx is the name of the file in which you saved your test plan, test-results.csv is the name of a file that will contain the results of each HTTP request, and report-folder is the name of a folder in which JMeter will generate an HTML “report dashboard”. **Both the test results file and report folder must be non-existent or empty prior to running the test.**\n",
        "\n",
        "After running the test, test-results.csv contains one row for each request recording the time elapsed, the result of the request, the size of the response and various other statistics. The report dashboard contains a web page (index.html) containing various summary statistics and charts. Spend some time familiarising yourself with both of these reports.\n",
        "\n",
        "For more information on running JMeter in non-GUI mode, see http://jmeter.apache.org/usermanual/get-started.html#non_gui. Full documentation for the report dashboard is in Section 14 of the User Manual, http://jmeter.apache.org/usermanual/generating-dashboard.html.\n"
      ]
    },
    {
      "cell_type": "markdown",
      "metadata": {
        "id": "9ZsWsWtD-iub"
      },
      "source": [
        "After the lab, do spend some time playing around with the numbers and reports. This part of the lab works for my cpu, and it definately will not work for you. It may not work during the actual lab itself as we are now running different processes during the lab session (eg zoom). The specific numbers used are:\n",
        "\n",
        "*   5000 threads\n",
        "*   50 second ramp up\n",
        "*   2 seconds\n",
        "\n",
        "What we are looking for is something known as a knee:\n",
        "\n",
        "![alt text](https://drive.google.com/uc?export=view&id=1Bi86mI13zhJMs2wz3jZ5kwWfnTxF0Dg7)\n",
        "\n",
        "In this case, the knee occurs at about 17 concurrent users if I wish to keep the response time at below 50ms. Again a reminder, you probably will not get the exact same results as me, so do not worry if yours is different. During the lab, I will try to demonstrate this, however do not worry if you do not get this exact same result. In fact it is normal if you do not get this exact same result."
      ]
    },
    {
      "cell_type": "markdown",
      "metadata": {
        "id": "hVKDcb_CH3si"
      },
      "source": [
        "## 3.5 (Optional. Not covered today.) Running and Testing the web server from Docker.\n",
        "\n",
        "### 3.5.1 Running the web server from Docker.\n",
        "\n",
        "Download the zip file from xsite. From the zip file, unzip it and you should see the following file structure.\n",
        "\n",
        "![alt text](https://drive.google.com/uc?export=view&id=1DXdoVdAdnGZjaWUeiON6PRy-z0HffM5S)\n",
        "\n",
        "(Make sure that your docker desktop is running). From there key in the command prompt \"docker-compose up\". It should start downloading the various resouces, and you will be able to access the server once again from your local host. Do note that I have disabled flask profiling in this example.\n",
        "\n",
        "\n",
        "In your own programming projects, you may follow the way the volumes are being mounted. Note this supports hot reloading, means that you do not need to rebuild the images every time you change the code. This makes it extremely easy to deploy and debug."
      ]
    },
    {
      "cell_type": "markdown",
      "metadata": {
        "id": "wG8zaVpXJkky"
      },
      "source": [
        "### 3.5.2 Testing the docker web server.\n",
        "\n",
        "If you were to run the earlier test from 3.4.3 with the parameters\n",
        "\n",
        "*   5000 threads\n",
        "*   50 second ramp up\n",
        "*   2 seconds\n",
        "All of us should get the same graph now. This is because the dockerfile has limited the resouces the container is able to access to just:\n",
        "\n",
        "```\n",
        "    mem_limit: 256m\n",
        "    mem_reservation: 128M\n",
        "    cpus: 0.5    \n",
        "```\n",
        "\n",
        "This is definitely not sufficient for our test.\n",
        "\n",
        "![alt text](https://drive.google.com/uc?export=view&id=1q7XHgyKIVIHDKDJcbfIWywTXCTrc-zk_)\n",
        "\n",
        "Let's try to reduce the parameters a bit.\n",
        "\n",
        "*   2000 threads\n",
        "*   50 second ramp up\n",
        "*   2 seconds\n",
        "\n",
        "We now see a very smooth ramp up, which may show that the server is not yet at its load.\n",
        "\n",
        "![alt text](https://drive.google.com/uc?export=view&id=1Yc8C2KPyxwlSnIITmIO9HXMvwDp5MCmT)\n",
        "\n",
        "Let's try to reduce the parameters a bit.\n",
        "\n",
        "*   2800 threads\n",
        "*   50 second ramp up\n",
        "*   2 seconds\n",
        "\n",
        "We now see a very smooth ramp up, which may show that the server is not yet at its load.\n",
        "\n",
        "![alt text](https://drive.google.com/uc?export=view&id=1T8B4J4w-hBbCpBZK_A2mCqraLmQ9-MpY)\n",
        "\n",
        "\n",
        "The interarrival time of the first test is 50 / 5000 = 0.01 seconds.\n",
        "\n",
        "The interarrival time of the final test is 50 / 2800 = 0.018 seconds, approximately double that of the first. This is because of the cpu in the docker being cut into just 0.5. Note that the number of people supported is also approximately cut into half, about 7-8."
      ]
    },
    {
      "cell_type": "markdown",
      "metadata": {
        "id": "wONwz2yYT96H"
      },
      "source": [
        "### 3.5.3 Reducing the docker web server.\n",
        "\n",
        "Let's reduce the resouces provided by the docker web server now:\n"
      ]
    },
    {
      "cell_type": "markdown",
      "metadata": {
        "id": "QB_hfRs8UIqQ"
      },
      "source": [
        "```\n",
        "    mem_limit: 256m\n",
        "    mem_reservation: 128M\n",
        "    cpus: 0.25    \n",
        "```\n"
      ]
    },
    {
      "cell_type": "markdown",
      "metadata": {
        "id": "yKmTOwWjVcG_"
      },
      "source": [
        "Running the test on the parameters\n",
        "\n",
        "*   1500 threads\n",
        "*   50 second ramp up\n",
        "*   2 seconds\n",
        "\n",
        "Gives us the quite expected graph of the knee being at 3-4 people.\n",
        "\n",
        "![alt text](https://drive.google.com/uc?export=view&id=1MqxBkhYwEVyrTj9OEReyOg-gt4zI5L2o)"
      ]
    },
    {
      "cell_type": "markdown",
      "metadata": {
        "id": "VRqyAH38mUFG"
      },
      "source": [
        "## Appendix – Building More Realistic Test Plans\n",
        "\n",
        "Many web applications involve much more sophisticated interactions than simply downloading a static web page. Constructing a test plan mimicking complex interactions, such as purchasing items from an on-line shop, might be quite difficult and tedious. Fortunately, JMeter provides a way of recording an interaction between a user and web site, and copying the sequence of HTTP requests that result into a test plan.\n",
        "\n",
        "For information on how to do this, visit the “Recording Tests” tutorial listed under “Tutorials” on the JMeter home page (http://jmeter.apache.org/usermanual/jmeter_proxy_step_by_step.html). Don’t forget to stop the HTTP Test Script Recorder and change your proxy settings back to normal when you have finished recording.\n",
        "\n",
        "JMeter’s HTTP Script Recorder is sufficient for creating load test plans. If you want to examine the behaviour of a web browser as it navigates a web application in greater detail, you might prefer to use the developer tools of your web browser, or a third party tool like Fiddler (http://www.telerik.com/fiddler/web-app-performance-testing)."
      ]
    }
  ],
  "metadata": {
    "colab": {
      "provenance": [],
      "include_colab_link": true
    },
    "kernelspec": {
      "display_name": "Python 3",
      "name": "python3"
    },
    "language_info": {
      "name": "python"
    }
  },
  "nbformat": 4,
  "nbformat_minor": 0
}