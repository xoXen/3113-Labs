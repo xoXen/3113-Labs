{
  "nbformat": 4,
  "nbformat_minor": 0,
  "metadata": {
    "colab": {
      "provenance": [],
      "include_colab_link": true
    },
    "kernelspec": {
      "name": "python3",
      "display_name": "Python 3"
    },
    "language_info": {
      "name": "python"
    }
  },
  "cells": [
    {
      "cell_type": "markdown",
      "metadata": {
        "id": "view-in-github",
        "colab_type": "text"
      },
      "source": [
        "<a href=\"https://colab.research.google.com/github/xoXen/3113-Labs/blob/lab-notebooks/AY24_25_ICT3102_Week02_Introduction_to_Profiling_Student.ipynb\" target=\"_parent\"><img src=\"https://colab.research.google.com/assets/colab-badge.svg\" alt=\"Open In Colab\"/></a>"
      ]
    },
    {
      "cell_type": "markdown",
      "metadata": {
        "id": "6NW1-dJiTenx"
      },
      "source": [
        "## 2.0 Learning Objectives\n",
        "\n",
        "By the end of this lab, you would have learnt the following:\n",
        "\n",
        "1.   How to use google colab\n",
        "2.   The difference between deterministic profilers and statistical profilers.\n",
        "3.   How to profile the **running time** of a piece of python code.\n",
        "4.   How to profile the **memory consumption** of a piece of python code.\n",
        "5.   How to profile the **cpu usage** of a piece of python code."
      ]
    },
    {
      "cell_type": "markdown",
      "metadata": {
        "id": "Qz4vjN9yLEdh"
      },
      "source": [
        "## 2.1.1 Google Colab\n",
        "\n",
        "The Google colab is a free cloud service which allows us to execute code on Google's cloud servers. It is extremely convenient for us as it provides all of us with the same environment to work off from. Let's see what hardware Google is providing us with:"
      ]
    },
    {
      "cell_type": "code",
      "metadata": {
        "id": "UaMFQZbELFZT"
      },
      "source": [
        "from psutil import *\n",
        "cpu_count()"
      ],
      "execution_count": null,
      "outputs": []
    },
    {
      "cell_type": "markdown",
      "metadata": {
        "id": "SNOeQLvLLQw5"
      },
      "source": [
        "Typically you will see the value of two here. As of now, google provides us with a dual core Intel Xeon either 2.20 or 2.30 GHz. You will be able to get more details of the software / hardware from the following:\n"
      ]
    },
    {
      "cell_type": "code",
      "metadata": {
        "id": "mggLznxzLLEo"
      },
      "source": [],
      "execution_count": null,
      "outputs": []
    },
    {
      "cell_type": "code",
      "metadata": {
        "id": "YrMuR6MlLTZi"
      },
      "source": [],
      "execution_count": null,
      "outputs": []
    },
    {
      "cell_type": "markdown",
      "metadata": {
        "id": "rIjn0tM_VQHh"
      },
      "source": [
        "## 2.2 Profiler types"
      ]
    },
    {
      "cell_type": "markdown",
      "metadata": {
        "id": "BfXJ024GVWAc"
      },
      "source": [
        "In this section of the lab, we will be working in particular with profilers in the Python language. In general, there are at least two types of profilers in python. They are deterministic and statistical profiling. The differences are as follows:\n",
        "\n",
        "**Deterministic profiling**\n",
        "\n",
        "Deterministic profilers monitors all function calls, function returns and exception events. Timings are made for every single one of this events.\n",
        "\n",
        "**Statistical profiling**\n",
        "\n",
        "Instead of tracking every event (e.g. call to every function), statistical profilers interrupts the application periodically and samples the effective instruction pointer. These are analyzed next to estimate where the application is spending its time in.\n",
        "\n",
        "*source: https://docs.python.org/2.0/lib/Deterministic_Profiling.html*\n",
        "\n",
        "Typically deterministic profilers cause huge overheads as every single event is instrumented. However naturally it provides high granularity and accuracy of the data generated."
      ]
    },
    {
      "cell_type": "markdown",
      "metadata": {
        "id": "oE60MJ99LmU7"
      },
      "source": [
        "## 2.3 Profiling Time"
      ]
    },
    {
      "cell_type": "markdown",
      "metadata": {
        "id": "fJsnx8u3V2mc"
      },
      "source": [
        "We will be using two functions to measure time. The first is via the time library, using either the perf_counter module or just simply using the default_timer() function to get the current time. To illustrate this, let's use our favourite sorting algorithm, insertion sort."
      ]
    },
    {
      "cell_type": "code",
      "metadata": {
        "id": "sbuSrBpDWqaT"
      },
      "source": [
        "def insertion_sort(arr):\n",
        "  for i in range(1, len(arr)):\n",
        "    curr_val = arr[i]\n",
        "    curr_index = i\n",
        "    while curr_index > 0 and arr[curr_index-1] > curr_val:\n",
        "      arr[curr_index] = arr[curr_index-1]\n",
        "      curr_index -= 1\n",
        "\n",
        "    arr[curr_index] = curr_val"
      ],
      "execution_count": null,
      "outputs": []
    },
    {
      "cell_type": "code",
      "metadata": {
        "id": "5YN-j_R2YCCW"
      },
      "source": [
        "import random\n",
        "\n",
        "array = []\n",
        "def init_random_array(array_size):\n",
        "  global array\n",
        "\n",
        "  array = []\n",
        "  random.seed(3102)\n",
        "\n",
        "  for i in range(array_size):\n",
        "      array.append(random.randint(0, array_size))\n",
        "  return (array)"
      ],
      "execution_count": null,
      "outputs": []
    },
    {
      "cell_type": "markdown",
      "metadata": {
        "id": "9SIeiSSJYhtI"
      },
      "source": [
        "### 2.3.1 time.perf_counter\n",
        "\n",
        "Let's find out how long insertion sort takes on these numbers using time.perf_counter."
      ]
    },
    {
      "cell_type": "code",
      "metadata": {
        "id": "Wqt9ow-bXqzW"
      },
      "source": [
        "from time import perf_counter\n",
        "\n"
      ],
      "execution_count": null,
      "outputs": []
    },
    {
      "cell_type": "markdown",
      "metadata": {
        "id": "6AlxPna6aHdB"
      },
      "source": [
        "### 2.3.2 timeit\n",
        "\n",
        "Another way (and some may argue a better way) is to use the timeit function. This allows us to measure how long a function takes to execute, when it is running many iterations."
      ]
    },
    {
      "cell_type": "code",
      "metadata": {
        "id": "MbxUl8dPajq8"
      },
      "source": [
        "from timeit import timeit\n",
        "\n"
      ],
      "execution_count": null,
      "outputs": []
    },
    {
      "cell_type": "markdown",
      "metadata": {
        "id": "TCEvdHPkeLpM"
      },
      "source": [
        "Let's now compare insertion sort with merge sort."
      ]
    },
    {
      "cell_type": "code",
      "metadata": {
        "id": "jsAnK0C7cRzt"
      },
      "source": [
        "def merge_sort(array, left_index, right_index):\n",
        "    if left_index >= right_index:\n",
        "        return\n",
        "\n",
        "    middle = (left_index + right_index)//2\n",
        "    merge_sort(array, left_index, middle)\n",
        "    merge_sort(array, middle + 1, right_index)\n",
        "    merge(array, left_index, right_index, middle)\n",
        "\n",
        "def merge(array, left_index, right_index, middle):\n",
        "    # Make copies of both arrays we're trying to merge\n",
        "\n",
        "    # The second parameter is non-inclusive, so we have to increase by 1\n",
        "    left_copy = array[left_index:middle + 1]\n",
        "    right_copy = array[middle+1:right_index+1]\n",
        "\n",
        "    # Initial values for variables that we use to keep\n",
        "    # track of where we are in each array\n",
        "    left_copy_index = 0\n",
        "    right_copy_index = 0\n",
        "    sorted_index = left_index\n",
        "\n",
        "    # Go through both copies until we run out of elements in one\n",
        "    while left_copy_index < len(left_copy) and right_copy_index < len(right_copy):\n",
        "\n",
        "        # If our left_copy has the smaller element, put it in the sorted\n",
        "        # part and then move forward in left_copy (by increasing the pointer)\n",
        "        if left_copy[left_copy_index] <= right_copy[right_copy_index]:\n",
        "            array[sorted_index] = left_copy[left_copy_index]\n",
        "            left_copy_index = left_copy_index + 1\n",
        "        # Opposite from above\n",
        "        else:\n",
        "            array[sorted_index] = right_copy[right_copy_index]\n",
        "            right_copy_index = right_copy_index + 1\n",
        "\n",
        "        # Regardless of where we got our element from\n",
        "        # move forward in the sorted part\n",
        "        sorted_index = sorted_index + 1\n",
        "\n",
        "    # We ran out of elements either in left_copy or right_copy\n",
        "    # so we will go through the remaining elements and add them\n",
        "    while left_copy_index < len(left_copy):\n",
        "        array[sorted_index] = left_copy[left_copy_index]\n",
        "        left_copy_index = left_copy_index + 1\n",
        "        sorted_index = sorted_index + 1\n",
        "\n",
        "    while right_copy_index < len(right_copy):\n",
        "        array[sorted_index] = right_copy[right_copy_index]\n",
        "        right_copy_index = right_copy_index + 1\n",
        "        sorted_index = sorted_index + 1\n",
        "\n",
        "# credits: https://stackabuse.com/merge-sort-in-python/"
      ],
      "execution_count": null,
      "outputs": []
    },
    {
      "cell_type": "code",
      "metadata": {
        "id": "9OuAomV-e5Rf"
      },
      "source": [],
      "execution_count": null,
      "outputs": []
    },
    {
      "cell_type": "markdown",
      "metadata": {
        "id": "26fLMHlycGUk"
      },
      "source": [
        "### 2.3.3 cProfile"
      ]
    },
    {
      "cell_type": "markdown",
      "metadata": {
        "id": "TbuWFOHQcOEG"
      },
      "source": [
        "Let's first look at a simple iterative example. Assume that we have 5 functions, and they are related to each other in the following manner:\n",
        "\n",
        "```\n",
        "func_a -> func_b (1000 times) -> func_e (17000 times)\n",
        "       -> func_c (1000 times) -> func_e (15000 times)\n",
        "```"
      ]
    },
    {
      "cell_type": "code",
      "metadata": {
        "id": "wCugENzicQ5O"
      },
      "source": [
        "import timeit\n",
        "\n",
        "tic = timeit.default_timer();\n",
        "\n",
        "def func_a():\n",
        "  for i in range(0,1000):\n",
        "    func_b()\n",
        "    func_c()\n",
        "\n",
        "def func_b():\n",
        "  for i in range(0,17000):\n",
        "    func_e()\n",
        "\n",
        "def func_c():\n",
        "  for i in range(0,15000):\n",
        "    func_e()\n",
        "\n",
        "def func_e():\n",
        "  return\n",
        "\n",
        "func_a()\n",
        "toc = timeit.default_timer();\n",
        "print(f\"{toc-tic}\")"
      ],
      "execution_count": null,
      "outputs": []
    },
    {
      "cell_type": "markdown",
      "metadata": {
        "id": "bu6UoSkpceLu"
      },
      "source": [
        "If we were to run the code above, the time taken is within the range of 2 to 3 seconds. Let's now try to profile the code with the cProfile module. Using the magic %% operator, we are able to write the cell contents to the file in our google cloud server."
      ]
    },
    {
      "cell_type": "code",
      "metadata": {
        "id": "YSFUpXEVciab"
      },
      "source": [
        "%%writefile multiple_calls.py\n",
        "\n",
        "def func_a():\n",
        "  for i in range(0,1000):\n",
        "    func_b()\n",
        "    func_c()\n",
        "\n",
        "def func_b():\n",
        "  for i in range(0,17000):\n",
        "    func_e()\n",
        "\n",
        "def func_c():\n",
        "  for i in range(0,15000):\n",
        "    func_e()\n",
        "\n",
        "def func_e():\n",
        "  return\n",
        "\n",
        "func_a()"
      ],
      "execution_count": null,
      "outputs": []
    },
    {
      "cell_type": "code",
      "metadata": {
        "id": "rGNyuNnccryM"
      },
      "source": [],
      "execution_count": null,
      "outputs": []
    },
    {
      "cell_type": "markdown",
      "metadata": {
        "id": "sPPmbCkAcgEM"
      },
      "source": [
        "And now the functions can be profiled with the following line:"
      ]
    },
    {
      "cell_type": "code",
      "metadata": {
        "id": "HC1SR_DBcuO-"
      },
      "source": [],
      "execution_count": null,
      "outputs": []
    },
    {
      "cell_type": "markdown",
      "metadata": {
        "id": "VjxG02qdczWt"
      },
      "source": [
        "We can sort it with the -s option."
      ]
    },
    {
      "cell_type": "code",
      "metadata": {
        "id": "o-1XJT4oc1qB"
      },
      "source": [],
      "execution_count": null,
      "outputs": []
    },
    {
      "cell_type": "markdown",
      "metadata": {
        "id": "iBdHhsyyc4Mw"
      },
      "source": [
        "Notice that the execution time increases almost three times. But here you can see clearly the various calls being made, total time being spent as well as the cummulative time. The column headings are:\n",
        "\n",
        "**ncalls**\n",
        "Total number of calls.\n",
        "\n",
        "**tottime**\n",
        "Total time spent in the given function (and excluding time made in calls to sub-functions).\n",
        "\n",
        "**percall**\n",
        "tottime divided by ncalls\n",
        "\n",
        "**cumtime**\n",
        "Cumulative time spent in this and all subfunctions (from invocation till exit).\n",
        "\n",
        "**percall**\n",
        "cumtime divided by primitive calls\n",
        "\n",
        "**filename:lineno(function)**\n",
        "Line number of the function\n",
        "\n",
        "*Additional options can be seen here: https://docs.python.org/3.7/library/profile.html*\n",
        "\n",
        "\n",
        "Let's try to visualize these calls. We first install the necessary packages:"
      ]
    },
    {
      "cell_type": "code",
      "metadata": {
        "id": "yDR60Pquc7y0"
      },
      "source": [],
      "execution_count": null,
      "outputs": []
    },
    {
      "cell_type": "markdown",
      "metadata": {
        "id": "wVTm1FdZc-il"
      },
      "source": [
        "Next we generate the output files in the following manner. Notice that the files output.png and output.pstats are generated on the folder structure on the left."
      ]
    },
    {
      "cell_type": "code",
      "metadata": {
        "id": "mfUwz9h4dBDZ"
      },
      "source": [
        "!python -m cProfile -o output.pstats multiple_calls.py\n",
        "!gprof2dot -f pstats output.pstats | dot -Tpng -o output.png"
      ],
      "execution_count": null,
      "outputs": []
    },
    {
      "cell_type": "code",
      "metadata": {
        "id": "IZ8iduF2dCDC"
      },
      "source": [],
      "execution_count": null,
      "outputs": []
    },
    {
      "cell_type": "markdown",
      "metadata": {
        "id": "mcJ0ZFgmdDQX"
      },
      "source": [
        "The following line displays the output image on your notebook. You can see that it corresponds to the original call tree up above."
      ]
    },
    {
      "cell_type": "code",
      "metadata": {
        "id": "ArlBbejudHW5"
      },
      "source": [],
      "execution_count": null,
      "outputs": []
    },
    {
      "cell_type": "markdown",
      "metadata": {
        "id": "crCAwvHGdDTB"
      },
      "source": [
        "Now let's try to carry out this analysis on our favourite fibonacci number recursive function, and see if there is a way to optimize it. First we find out what the execution time is when n is equals to 10."
      ]
    },
    {
      "cell_type": "code",
      "metadata": {
        "id": "8IYtoRjZdQkn"
      },
      "source": [],
      "execution_count": null,
      "outputs": []
    },
    {
      "cell_type": "markdown",
      "metadata": {
        "id": "NawX07NSdVeh"
      },
      "source": [
        "Let's try to do the profiling here from a module. For this recursive function, it's clearer to use the cProfile as a module rather than from the command line."
      ]
    },
    {
      "cell_type": "code",
      "metadata": {
        "id": "8hZuAxNvdYJG"
      },
      "source": [],
      "execution_count": null,
      "outputs": []
    },
    {
      "cell_type": "markdown",
      "metadata": {
        "id": "2Icn25BAdefB"
      },
      "source": [
        "Notice that the execution time has almost doubled with such a small example. You can also tell that the recursive call occurs for more than 18454929 times, although the number of primitive calls are just 40. Hence you can deduce that there is room for improvement here. Let's try to carry out some memoization to reduce the number of function calls.\n",
        "\n",
        "We do that by first creating a dictionary and storing the outputs there. If the output is present, we will use the value in the dictionary. Else we will carry out the function call."
      ]
    },
    {
      "cell_type": "code",
      "metadata": {
        "id": "W5g3XA-jdjr8"
      },
      "source": [
        "import cProfile\n",
        "import timeit\n",
        "\n",
        "tic = timeit.default_timer();\n",
        "\n",
        "fib_num = 34\n",
        "\n",
        "def fib(fib_dict, n):\n",
        "  if n in fib_dict: return fib_dict[n]\n",
        "\n",
        "  if n == 0: return 0\n",
        "  if n == 1: return 1\n",
        "\n",
        "  if (n-1) in fib_dict:\n",
        "    return_1 = fib_dict.get(n-1)\n",
        "  else:\n",
        "    return_1 = fib(fib_dict, n-1)\n",
        "    fib_dict[n-1] = return_1\n",
        "\n",
        "  if (n-2) in fib_dict:\n",
        "    return_2 = fib_dict.get(n-2)\n",
        "  else:\n",
        "    return_2 = fib(fib_dict, n-1)\n",
        "    fib_dict[n-2] = return_2\n",
        "\n",
        "  fib_dict[n] = fib_dict[n-1] + fib_dict[n-2]\n",
        "  return fib_dict[n]\n",
        "\n",
        "def fib_driver(n):\n",
        "  fib_dict = {}\n",
        "  fib(fib_dict, n)\n",
        "  print(fib_dict[n-1])\n",
        "\n",
        "cProfile.run('print(f\\\"{fib_driver(fib_num)} {timeit.default_timer() - tic}\\\")')"
      ],
      "execution_count": null,
      "outputs": []
    },
    {
      "cell_type": "markdown",
      "metadata": {
        "id": "unB0LmfKdosG"
      },
      "source": [
        "You would notice that the number of iterative calls have decreased dramatically to just 35, which in fact makes this recursive function O(n), the same as the iterative version of our fibonacci number generator."
      ]
    },
    {
      "cell_type": "code",
      "metadata": {
        "id": "OQlOWObKdyRq"
      },
      "source": [],
      "execution_count": null,
      "outputs": []
    },
    {
      "cell_type": "markdown",
      "metadata": {
        "id": "4_ifVwnRdDVr"
      },
      "source": [
        "As you can see, it is in the same order as that of the iterative version we have been working with so far."
      ]
    },
    {
      "cell_type": "markdown",
      "metadata": {
        "id": "3tOsLqQehLeu"
      },
      "source": [
        "### 2.3.4 py-spy"
      ]
    },
    {
      "cell_type": "markdown",
      "metadata": {
        "id": "mQliMgidhO9Z"
      },
      "source": [
        "We will now compare cProfile with a statistical profiler, py-spy."
      ]
    },
    {
      "cell_type": "code",
      "metadata": {
        "id": "eW5Ptz_OhXnX"
      },
      "source": [],
      "execution_count": null,
      "outputs": []
    },
    {
      "cell_type": "markdown",
      "metadata": {
        "id": "x3GmUawxharH"
      },
      "source": [
        "Let's first create a python script which runs for at least 10 seconds."
      ]
    },
    {
      "cell_type": "code",
      "metadata": {
        "id": "Pk671ISBhenM"
      },
      "source": [
        "%%writefile long_multiple_calls.py\n",
        "\n",
        "def func_a():\n",
        "  for i in range(0,1000):\n",
        "    func_b()\n",
        "    func_c()\n",
        "\n",
        "def func_b():\n",
        "  for i in range(0,77000):\n",
        "    func_e()\n",
        "\n",
        "def func_c():\n",
        "  for i in range(0,55000):\n",
        "    func_e()\n",
        "\n",
        "def func_e():\n",
        "  return\n",
        "\n",
        "func_a()"
      ],
      "execution_count": null,
      "outputs": []
    },
    {
      "cell_type": "markdown",
      "metadata": {
        "id": "hIjyfx8ehiiy"
      },
      "source": [
        "What the next line does is to run the function, sampling it at various intervals. In this instance, it is sampled at 100 times per second."
      ]
    },
    {
      "cell_type": "code",
      "metadata": {
        "id": "DbmF95LMhm1M"
      },
      "source": [],
      "execution_count": null,
      "outputs": []
    },
    {
      "cell_type": "code",
      "metadata": {
        "id": "U6JLpSD-hpZO"
      },
      "source": [],
      "execution_count": null,
      "outputs": []
    },
    {
      "cell_type": "markdown",
      "metadata": {
        "id": "LD_lOOYGhsmo"
      },
      "source": [
        "What we see on top is known as a flame graph. We can discuss a bit more on this flame graph.\n",
        "\n",
        "The flame graph is a collection of stack traces and these traces are arranged as column of boxes, where each box represents a function or a stack frame.\n",
        "\n",
        "The y-axis shows the depth and in this case, it is ordered from the top (root) to the bottom (leaf).\n",
        "\n",
        "The x-axis spans the stack trace collection and the ordering is in alphabetical, and not by time.\n",
        "\n",
        "The width of each function box shows the frequency at which that function was present in the stack traces. So in this example, it shows clearly that the bulk of the cummulative time was spent in calling function_b and function_c from function_a.\n",
        "\n",
        "The background colors for each box are chosen purely for asthestic purposes and have no inherent meaning.\n",
        "\n",
        "*source: https://cacm.acm.org/magazines/2016/6/202665-the-flame-graph/fulltext*"
      ]
    },
    {
      "cell_type": "markdown",
      "metadata": {
        "id": "OeacA2Fbhv4z"
      },
      "source": [
        "One of the useful commands is the Top command. Top shows a live view of what functions are taking the most time in your python program. Running py-spy with the top command gives you the following live statistical updates:"
      ]
    },
    {
      "cell_type": "code",
      "metadata": {
        "id": "286LKcn0hy9A"
      },
      "source": [],
      "execution_count": null,
      "outputs": []
    },
    {
      "cell_type": "markdown",
      "metadata": {
        "id": "rgimnrszh8V1"
      },
      "source": [
        "Let us compare this with cProfile to see if there is any delta between the two."
      ]
    },
    {
      "cell_type": "code",
      "metadata": {
        "id": "kjaFYcX6iAc1"
      },
      "source": [],
      "execution_count": null,
      "outputs": []
    },
    {
      "cell_type": "markdown",
      "metadata": {
        "id": "xl8sAM8IVrCE"
      },
      "source": [
        "### 2.4 Profiling Memory"
      ]
    },
    {
      "cell_type": "markdown",
      "metadata": {
        "id": "CzsqjO_uV8Ph"
      },
      "source": [
        "We will be showcasing three tools to profile memory. All three tools have their different strengths / weaknesses, and the choice of the tool is dependent on the situation."
      ]
    },
    {
      "cell_type": "markdown",
      "metadata": {
        "id": "TdeF9NegWNGv"
      },
      "source": [
        "### 2.4.1 Memory Profiler"
      ]
    },
    {
      "cell_type": "code",
      "metadata": {
        "id": "90rRXbAYjACb"
      },
      "source": [],
      "execution_count": null,
      "outputs": []
    },
    {
      "cell_type": "code",
      "metadata": {
        "id": "A3r1SOhpf14S"
      },
      "source": [],
      "execution_count": null,
      "outputs": []
    },
    {
      "cell_type": "code",
      "metadata": {
        "id": "sXqPibWafjxd"
      },
      "source": [
        "%%writefile insert_sort.py\n",
        "\n",
        "import random\n",
        "from memory_profiler import profile\n",
        "\n",
        "array = []\n",
        "def init_random_array(array_size):\n",
        "  global array\n",
        "\n",
        "  array = []\n",
        "  random.seed(3102)\n",
        "\n",
        "  for i in range(array_size):\n",
        "      array.append(random.randint(0, array_size))\n",
        "  return (array)\n",
        "\n",
        "@profile\n",
        "def insertion_sort(arr):\n",
        "  for i in range(1, len(arr)):\n",
        "    curr_val = arr[i]\n",
        "    curr_index = i\n",
        "    while curr_index > 0 and arr[curr_index-1] > curr_val:\n",
        "      arr[curr_index] = arr[curr_index-1]\n",
        "      curr_index -= 1\n",
        "\n",
        "    arr[curr_index] = curr_val\n",
        "\n",
        "init_random_array(1000)\n",
        "insertion_sort(array)"
      ],
      "execution_count": null,
      "outputs": []
    },
    {
      "cell_type": "code",
      "metadata": {
        "id": "eVF-2qBtgwbB"
      },
      "source": [],
      "execution_count": null,
      "outputs": []
    },
    {
      "cell_type": "code",
      "metadata": {
        "id": "KKkklSL7geQB"
      },
      "source": [
        "%%writefile merge_sort.py\n",
        "\n",
        "import random\n",
        "from memory_profiler import profile\n",
        "\n",
        "array = []\n",
        "def init_random_array(array_size):\n",
        "  global array\n",
        "\n",
        "  array = []\n",
        "  random.seed(3102)\n",
        "\n",
        "  for i in range(array_size):\n",
        "      array.append(random.randint(0, array_size))\n",
        "  return (array)\n",
        "\n",
        "@profile\n",
        "def merge_sort(array, left_index, right_index):\n",
        "    if left_index >= right_index:\n",
        "        return\n",
        "\n",
        "    middle = (left_index + right_index)//2\n",
        "    merge_sort(array, left_index, middle)\n",
        "    merge_sort(array, middle + 1, right_index)\n",
        "    merge(array, left_index, right_index, middle)\n",
        "\n",
        "def merge(array, left_index, right_index, middle):\n",
        "    # Make copies of both arrays we're trying to merge\n",
        "\n",
        "    # The second parameter is non-inclusive, so we have to increase by 1\n",
        "    left_copy = array[left_index:middle + 1]\n",
        "    right_copy = array[middle+1:right_index+1]\n",
        "\n",
        "    # Initial values for variables that we use to keep\n",
        "    # track of where we are in each array\n",
        "    left_copy_index = 0\n",
        "    right_copy_index = 0\n",
        "    sorted_index = left_index\n",
        "\n",
        "    # Go through both copies until we run out of elements in one\n",
        "    while left_copy_index < len(left_copy) and right_copy_index < len(right_copy):\n",
        "\n",
        "        # If our left_copy has the smaller element, put it in the sorted\n",
        "        # part and then move forward in left_copy (by increasing the pointer)\n",
        "        if left_copy[left_copy_index] <= right_copy[right_copy_index]:\n",
        "            array[sorted_index] = left_copy[left_copy_index]\n",
        "            left_copy_index = left_copy_index + 1\n",
        "        # Opposite from above\n",
        "        else:\n",
        "            array[sorted_index] = right_copy[right_copy_index]\n",
        "            right_copy_index = right_copy_index + 1\n",
        "\n",
        "        # Regardless of where we got our element from\n",
        "        # move forward in the sorted part\n",
        "        sorted_index = sorted_index + 1\n",
        "\n",
        "    # We ran out of elements either in left_copy or right_copy\n",
        "    # so we will go through the remaining elements and add them\n",
        "    while left_copy_index < len(left_copy):\n",
        "        array[sorted_index] = left_copy[left_copy_index]\n",
        "        left_copy_index = left_copy_index + 1\n",
        "        sorted_index = sorted_index + 1\n",
        "\n",
        "    while right_copy_index < len(right_copy):\n",
        "        array[sorted_index] = right_copy[right_copy_index]\n",
        "        right_copy_index = right_copy_index + 1\n",
        "        sorted_index = sorted_index + 1\n",
        "\n",
        "# credits: https://stackabuse.com/merge-sort-in-python/\n",
        "\n",
        "init_random_array(10)\n",
        "merge_sort(array, 0, len(array)-1)"
      ],
      "execution_count": null,
      "outputs": []
    },
    {
      "cell_type": "code",
      "metadata": {
        "id": "3sMAZQ0ghUbp"
      },
      "source": [],
      "execution_count": null,
      "outputs": []
    },
    {
      "cell_type": "markdown",
      "metadata": {
        "id": "IDkwXaLxhMzF"
      },
      "source": [
        "Notice that the logs are really hard to read. Primarily it is because of the recursive call, hence for the same function gets called recursively many times. Each time it is called it is difficult to see the memory allocated. You may need to run these more than once, obtain the average to get a good stable result."
      ]
    },
    {
      "cell_type": "markdown",
      "metadata": {
        "id": "Ry0qodftWXQ6"
      },
      "source": [
        "### 2.4.2 tracemalloc"
      ]
    },
    {
      "cell_type": "code",
      "metadata": {
        "id": "lbXE0eDijfzq"
      },
      "source": [],
      "execution_count": null,
      "outputs": []
    },
    {
      "cell_type": "code",
      "metadata": {
        "id": "G_hXHXWQj2vJ"
      },
      "source": [],
      "execution_count": null,
      "outputs": []
    },
    {
      "cell_type": "code",
      "metadata": {
        "id": "Ii9yC2YPnPOw"
      },
      "source": [
        "def partition(array, start, end):\n",
        "    pivot = array[start]\n",
        "    low = start + 1\n",
        "    high = end\n",
        "\n",
        "    while True:\n",
        "        # If the current value we're looking at is larger than the pivot\n",
        "        # it's in the right place (right side of pivot) and we can move left,\n",
        "        # to the next element.\n",
        "        # We also need to make sure we haven't surpassed the low pointer, since that\n",
        "        # indicates we have already moved all the elements to their correct side of the pivot\n",
        "        while low <= high and array[high] >= pivot:\n",
        "            high = high - 1\n",
        "\n",
        "        # Opposite process of the one above\n",
        "        while low <= high and array[low] <= pivot:\n",
        "            low = low + 1\n",
        "\n",
        "        # We either found a value for both high and low that is out of order\n",
        "        # or low is higher than high, in which case we exit the loop\n",
        "        if low <= high:\n",
        "            array[low], array[high] = array[high], array[low]\n",
        "            # The loop continues\n",
        "        else:\n",
        "            # We exit out of the loop\n",
        "            break\n",
        "\n",
        "    array[start], array[high] = array[high], array[start]\n",
        "\n",
        "    return high\n",
        "\n",
        "def quick_sort(array, start, end):\n",
        "    if start >= end:\n",
        "        return\n",
        "\n",
        "    p = partition(array, start, end)\n",
        "    quick_sort(array, start, p-1)\n",
        "    quick_sort(array, p+1, end)"
      ],
      "execution_count": null,
      "outputs": []
    },
    {
      "cell_type": "code",
      "metadata": {
        "id": "jKovBTPanTZz"
      },
      "source": [],
      "execution_count": null,
      "outputs": []
    }
  ]
}